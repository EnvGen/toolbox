{
 "cells": [
  {
   "cell_type": "code",
   "execution_count": 1,
   "metadata": {
    "collapsed": false
   },
   "outputs": [],
   "source": [
    "from ClassifyContigNR import *\n",
    "import tempfile\n",
    "import pandas as pd"
   ]
  },
  {
   "cell_type": "markdown",
   "metadata": {},
   "source": [
    "# Test Data"
   ]
  },
  {
   "cell_type": "code",
   "execution_count": 2,
   "metadata": {
    "collapsed": true
   },
   "outputs": [],
   "source": [
    "bed_content_lists = [[\"contig1\",\"1\",\"816\",\"PROKKA_MOD_PART0_00001\"]]\n",
    "\n",
    "blast_result_content_lists_single = [[\"PROKKA_MOD_PART0_00001\",\"WP_066153451.1\",\"89.0\",\"271\",\"48\",\"0\",\"1\",\"272\",\"179\",\"449\",\"6.7e-131\",\"475.7\"]]\n",
    "\n",
    "blast_result_content_lists = [[\"PROKKA_MOD_PART0_00001\",\"WP_066153451.1\",\"69.0\",\"271\",\"48\",\"0\",\"1\",\"272\",\"179\",\"449\",\"6.7e-131\",\"475.7\"],\n",
    "                              [\"PROKKA_MOD_PART0_00001\",\"WP_056663091.1\",\"69.0\",\"271\",\"50\",\"0\",\"1\",\"272\",\"179\",\"449\",\"8.7e-131\",\"475.3\"],\n",
    "                              [\"PROKKA_MOD_PART0_00001\",\"WP_009516566.1\",\"69.0\",\"271\",\"47\",\"0\",\"1\",\"272\",\"179\",\"449\",\"1.5e-130\",\"474.6\"]]\n",
    "\n",
    "lineage_content_lists = [[\"545\",\"Bacteria\",\"Proteobacteria\",\"Gammaproteobacteria\",\"Enterobacterales\",\"Enterobacteriaceae\",\"Citrobacter\",\"Citrobacter koseri\"],\n",
    "                         [\"562\",\"Bacteria\",\"Proteobacteria\",\"Gammaproteobacteria\",\"Enterobacterales\",\"Enterobacteriaceae\",\"Escherichia\",\"Escherichia coli\"],\n",
    "                         [\"666\",\"Bacteria\",\"Proteobacteria\",\"Gammaproteobacteria\",\"Vibrionales\",\"Vibrionaceae\",\"Vibrio\",\"Vibrio cholerae\"]]\n",
    "\n",
    "### Completely Fake ###\n",
    "protein_to_taxid_lists = [[\"acc\",\"ver\",\"taxid\",\"xx\"],\n",
    "                          [\"WP_066153451\",\"WP_066153451.1\",\"545\",\"---\"],\n",
    "                          [\"WP_009516566\",\"WP_056663091.1\",\"562\",\"---\"],\n",
    "                          [\"WP_009516566\",\"WP_009516566.1\",\"666\",\"---\"]]"
   ]
  },
  {
   "cell_type": "markdown",
   "metadata": {},
   "source": [
    "## Methods to load test data"
   ]
  },
  {
   "cell_type": "code",
   "execution_count": 3,
   "metadata": {
    "collapsed": true
   },
   "outputs": [],
   "source": [
    "def fake_file(content):\n",
    "    fh = tempfile.NamedTemporaryFile(mode='w', encoding='utf8')\n",
    "    fh.write(content)\n",
    "    fh.seek(0)\n",
    "    return fh"
   ]
  },
  {
   "cell_type": "code",
   "execution_count": 4,
   "metadata": {
    "collapsed": false
   },
   "outputs": [],
   "source": [
    "def preprocess_data(bed_content_lists, blast_result_content_lists, lineage_content_lists, protein_to_taxid_lists):\n",
    "    bed_content=\"\\n\".join(\"\\t\".join(items) for items in bed_content_lists)\n",
    "\n",
    "    blast_result_content = \"\\n\".join([\"\\t\".join(items) for items in blast_result_content_lists])\n",
    "    blast_result_content_single = \"\\n\".join([\"\\t\".join(items) for items in blast_result_content_lists])\n",
    "\n",
    "    lineage_content = \"\\n\".join([\"\\t\".join(items) for items in lineage_content_lists])\n",
    "\n",
    "    protein_to_taxid_content = \"\\n\".join([\"\\t\".join(items) for items in protein_to_taxid_lists])\n",
    "    \n",
    "    fake_bed_file = fake_file(bed_content)\n",
    "    with open(fake_bed_file.name, 'r') as fh:\n",
    "        fh.seek(0)\n",
    "        (lengths, contigGenes, contigLengths) = read_bed_lines(fh)\n",
    "        \n",
    "    fake_blast_file = fake_file(blast_result_content)\n",
    "    with open(fake_blast_file.name, 'r') as fh:\n",
    "        fh.seek(0)\n",
    "        matches, gids = read_blast_lines(fh, lengths, True, 40.0)\n",
    "        \n",
    "    fake_lineage_file = fake_file(lineage_content)\n",
    "    with open(fake_lineage_file.name, 'r') as fh:\n",
    "        fh.seek(0)\n",
    "        lineages, mapBack = read_lineage_lines(fh)\n",
    "        \n",
    "    fake_prot_file = fake_file(protein_to_taxid_content)\n",
    "    with open(fake_prot_file.name, 'r') as fh:\n",
    "        fh.seek(0)\n",
    "        mapping = map_accessions(gids, fh)\n",
    "        \n",
    "    taxa_identities = [0.4, 0.5, 0.6, 0.7, 0.8, 0.9, 0.95]\n",
    "    \n",
    "    return matches, mapping, mapBack, lineages, lengths, contigGenes, taxa_identities"
   ]
  },
  {
   "cell_type": "markdown",
   "metadata": {},
   "source": [
    "# Run with only one hit"
   ]
  },
  {
   "cell_type": "code",
   "execution_count": 5,
   "metadata": {
    "collapsed": false
   },
   "outputs": [
    {
     "name": "stdout",
     "output_type": "stream",
     "text": [
      "0.89 WP_066153451.1\n"
     ]
    }
   ],
   "source": [
    "matches, mapping, mapBack, lineages, lengths, contigGenes, taxa_identities = \\\n",
    "    preprocess_data(bed_content_lists, blast_result_content_lists_single, lineage_content_lists, protein_to_taxid_lists)"
   ]
  },
  {
   "cell_type": "code",
   "execution_count": 6,
   "metadata": {
    "collapsed": false
   },
   "outputs": [],
   "source": [
    "contigAssign, geneAssign = assign_taxonomy(matches, mapping, mapBack, lineages, lengths, contigGenes, 0.5, taxa_identities)"
   ]
  },
  {
   "cell_type": "code",
   "execution_count": 7,
   "metadata": {
    "collapsed": false
   },
   "outputs": [
    {
     "data": {
      "text/html": [
       "<div>\n",
       "<table border=\"1\" class=\"dataframe\">\n",
       "  <thead>\n",
       "    <tr style=\"text-align: right;\">\n",
       "      <th></th>\n",
       "      <th>0</th>\n",
       "      <th>1</th>\n",
       "      <th>2</th>\n",
       "      <th>3</th>\n",
       "      <th>4</th>\n",
       "      <th>5</th>\n",
       "      <th>6</th>\n",
       "    </tr>\n",
       "  </thead>\n",
       "  <tbody>\n",
       "    <tr>\n",
       "      <th>PROKKA_MOD_PART0_00001</th>\n",
       "      <td>(Bacteria, 1.0)</td>\n",
       "      <td>(Proteobacteria, 1.0)</td>\n",
       "      <td>(Gammaproteobacteria, 1.0)</td>\n",
       "      <td>(Enterobacterales, 1.0)</td>\n",
       "      <td>(Enterobacteriaceae, 1.0)</td>\n",
       "      <td>(Unclassified, -1.0)</td>\n",
       "      <td>(Unclassified, -1.0)</td>\n",
       "    </tr>\n",
       "  </tbody>\n",
       "</table>\n",
       "</div>"
      ],
      "text/plain": [
       "                                      0                      1  \\\n",
       "PROKKA_MOD_PART0_00001  (Bacteria, 1.0)  (Proteobacteria, 1.0)   \n",
       "\n",
       "                                                 2                        3  \\\n",
       "PROKKA_MOD_PART0_00001  (Gammaproteobacteria, 1.0)  (Enterobacterales, 1.0)   \n",
       "\n",
       "                                                4                     5  \\\n",
       "PROKKA_MOD_PART0_00001  (Enterobacteriaceae, 1.0)  (Unclassified, -1.0)   \n",
       "\n",
       "                                           6  \n",
       "PROKKA_MOD_PART0_00001  (Unclassified, -1.0)  "
      ]
     },
     "execution_count": 7,
     "metadata": {},
     "output_type": "execute_result"
    }
   ],
   "source": [
    "pd.DataFrame.from_dict(geneAssign, orient='index')"
   ]
  },
  {
   "cell_type": "markdown",
   "metadata": {},
   "source": [
    "# Run with three hits"
   ]
  },
  {
   "cell_type": "code",
   "execution_count": 8,
   "metadata": {
    "collapsed": false
   },
   "outputs": [
    {
     "name": "stdout",
     "output_type": "stream",
     "text": [
      "0.99 WP_066153451.1\n",
      "0.99 WP_056663091.1\n",
      "0.99 WP_009516566.1\n"
     ]
    },
    {
     "data": {
      "text/html": [
       "<div>\n",
       "<table border=\"1\" class=\"dataframe\">\n",
       "  <thead>\n",
       "    <tr style=\"text-align: right;\">\n",
       "      <th></th>\n",
       "      <th>0</th>\n",
       "      <th>1</th>\n",
       "      <th>2</th>\n",
       "      <th>3</th>\n",
       "      <th>4</th>\n",
       "      <th>5</th>\n",
       "      <th>6</th>\n",
       "    </tr>\n",
       "  </thead>\n",
       "  <tbody>\n",
       "    <tr>\n",
       "      <th>PROKKA_MOD_PART0_00001</th>\n",
       "      <td>(Bacteria, 1.0)</td>\n",
       "      <td>(Proteobacteria, 1.0)</td>\n",
       "      <td>(Gammaproteobacteria, 1.0)</td>\n",
       "      <td>(Enterobacterales, 1.0)</td>\n",
       "      <td>(Enterobacteriaceae, 0.6666666666666667)</td>\n",
       "      <td>(Unclassified, -1.0)</td>\n",
       "      <td>(Unclassified, -1.0)</td>\n",
       "    </tr>\n",
       "  </tbody>\n",
       "</table>\n",
       "</div>"
      ],
      "text/plain": [
       "                                      0                      1  \\\n",
       "PROKKA_MOD_PART0_00001  (Bacteria, 1.0)  (Proteobacteria, 1.0)   \n",
       "\n",
       "                                                 2                        3  \\\n",
       "PROKKA_MOD_PART0_00001  (Gammaproteobacteria, 1.0)  (Enterobacterales, 1.0)   \n",
       "\n",
       "                                                               4  \\\n",
       "PROKKA_MOD_PART0_00001  (Enterobacteriaceae, 0.6666666666666667)   \n",
       "\n",
       "                                           5                     6  \n",
       "PROKKA_MOD_PART0_00001  (Unclassified, -1.0)  (Unclassified, -1.0)  "
      ]
     },
     "execution_count": 8,
     "metadata": {},
     "output_type": "execute_result"
    }
   ],
   "source": [
    "matches, mapping, mapBack, lineages, lengths, contigGenes, taxa_identities = \\\n",
    "    preprocess_data(bed_content_lists, blast_result_content_lists, lineage_content_lists, protein_to_taxid_lists)\n",
    "contigAssign, geneAssign = assign_taxonomy(matches, mapping, mapBack, lineages, lengths, contigGenes, 0.5, taxa_identities)\n",
    "pd.DataFrame.from_dict(geneAssign, orient='index')"
   ]
  }
 ],
 "metadata": {
  "kernelspec": {
   "display_name": "Python 3",
   "language": "python",
   "name": "python3"
  },
  "language_info": {
   "codemirror_mode": {
    "name": "ipython",
    "version": 3
   },
   "file_extension": ".py",
   "mimetype": "text/x-python",
   "name": "python",
   "nbconvert_exporter": "python",
   "pygments_lexer": "ipython3",
   "version": "3.5.1"
  }
 },
 "nbformat": 4,
 "nbformat_minor": 0
}
