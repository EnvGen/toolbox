{
 "cells": [
  {
   "cell_type": "code",
   "execution_count": 94,
   "metadata": {
    "collapsed": true
   },
   "outputs": [],
   "source": [
    "import pandas as pd\n",
    "\n",
    "import matplotlib\n",
    "from matplotlib import pyplot as plt\n",
    "import random\n",
    "import seaborn as sns\n",
    "from collections import Counter\n",
    "%matplotlib inline"
   ]
  },
  {
   "cell_type": "code",
   "execution_count": 10,
   "metadata": {
    "collapsed": true
   },
   "outputs": [],
   "source": [
    "df = pd.read_table(\"blast_output.tsv\", \n",
    "                   names=['query_id', 'subject_id','perc_identity', 'alignment_length', 'mismatches', 'gaps', 'qstart','qend','sstart', 'send', 'evalue','score'])"
   ]
  },
  {
   "cell_type": "code",
   "execution_count": 9,
   "metadata": {
    "collapsed": false
   },
   "outputs": [
    {
     "data": {
      "text/html": [
       "<div>\n",
       "<style>\n",
       "    .dataframe thead tr:only-child th {\n",
       "        text-align: right;\n",
       "    }\n",
       "\n",
       "    .dataframe thead th {\n",
       "        text-align: left;\n",
       "    }\n",
       "\n",
       "    .dataframe tbody tr th {\n",
       "        vertical-align: top;\n",
       "    }\n",
       "</style>\n",
       "<table border=\"1\" class=\"dataframe\">\n",
       "  <thead>\n",
       "    <tr style=\"text-align: right;\">\n",
       "      <th></th>\n",
       "      <th>query_id</th>\n",
       "      <th>subject_id</th>\n",
       "      <th>perc_identity</th>\n",
       "      <th>alignment_length?</th>\n",
       "      <th>mismatches</th>\n",
       "      <th>gaps</th>\n",
       "      <th>qstart</th>\n",
       "      <th>qend</th>\n",
       "      <th>sstart</th>\n",
       "      <th>send</th>\n",
       "      <th>evalue</th>\n",
       "      <th>score</th>\n",
       "    </tr>\n",
       "  </thead>\n",
       "  <tbody>\n",
       "    <tr>\n",
       "      <th>0</th>\n",
       "      <td>k99_256</td>\n",
       "      <td>gi|55771382|dbj|AP008226.1|</td>\n",
       "      <td>81.262</td>\n",
       "      <td>523</td>\n",
       "      <td>89</td>\n",
       "      <td>6</td>\n",
       "      <td>1</td>\n",
       "      <td>516</td>\n",
       "      <td>132178</td>\n",
       "      <td>132698</td>\n",
       "      <td>1.450000e-116</td>\n",
       "      <td>414.0</td>\n",
       "    </tr>\n",
       "    <tr>\n",
       "      <th>1</th>\n",
       "      <td>k99_256</td>\n",
       "      <td>gi|55771382|dbj|AP008226.1|</td>\n",
       "      <td>81.262</td>\n",
       "      <td>523</td>\n",
       "      <td>89</td>\n",
       "      <td>6</td>\n",
       "      <td>1</td>\n",
       "      <td>516</td>\n",
       "      <td>1633827</td>\n",
       "      <td>1633307</td>\n",
       "      <td>1.450000e-116</td>\n",
       "      <td>414.0</td>\n",
       "    </tr>\n",
       "    <tr>\n",
       "      <th>2</th>\n",
       "      <td>k99_719</td>\n",
       "      <td>gi|55771382|dbj|AP008226.1|</td>\n",
       "      <td>99.826</td>\n",
       "      <td>1149</td>\n",
       "      <td>2</td>\n",
       "      <td>0</td>\n",
       "      <td>1</td>\n",
       "      <td>1149</td>\n",
       "      <td>1411524</td>\n",
       "      <td>1412672</td>\n",
       "      <td>0.000000e+00</td>\n",
       "      <td>2111.0</td>\n",
       "    </tr>\n",
       "    <tr>\n",
       "      <th>3</th>\n",
       "      <td>k99_5583</td>\n",
       "      <td>gi|55771382|dbj|AP008226.1|</td>\n",
       "      <td>99.242</td>\n",
       "      <td>264</td>\n",
       "      <td>2</td>\n",
       "      <td>0</td>\n",
       "      <td>1</td>\n",
       "      <td>264</td>\n",
       "      <td>1778525</td>\n",
       "      <td>1778788</td>\n",
       "      <td>9.000000e-136</td>\n",
       "      <td>477.0</td>\n",
       "    </tr>\n",
       "    <tr>\n",
       "      <th>4</th>\n",
       "      <td>k99_6632</td>\n",
       "      <td>gi|55771382|dbj|AP008226.1|</td>\n",
       "      <td>86.957</td>\n",
       "      <td>92</td>\n",
       "      <td>12</td>\n",
       "      <td>0</td>\n",
       "      <td>16257</td>\n",
       "      <td>16348</td>\n",
       "      <td>1690580</td>\n",
       "      <td>1690489</td>\n",
       "      <td>1.470000e-21</td>\n",
       "      <td>104.0</td>\n",
       "    </tr>\n",
       "  </tbody>\n",
       "</table>\n",
       "</div>"
      ],
      "text/plain": [
       "   query_id                   subject_id  perc_identity  alignment_length?  \\\n",
       "0   k99_256  gi|55771382|dbj|AP008226.1|         81.262                523   \n",
       "1   k99_256  gi|55771382|dbj|AP008226.1|         81.262                523   \n",
       "2   k99_719  gi|55771382|dbj|AP008226.1|         99.826               1149   \n",
       "3  k99_5583  gi|55771382|dbj|AP008226.1|         99.242                264   \n",
       "4  k99_6632  gi|55771382|dbj|AP008226.1|         86.957                 92   \n",
       "\n",
       "   mismatches  gaps  qstart   qend   sstart     send         evalue   score  \n",
       "0          89     6       1    516   132178   132698  1.450000e-116   414.0  \n",
       "1          89     6       1    516  1633827  1633307  1.450000e-116   414.0  \n",
       "2           2     0       1   1149  1411524  1412672   0.000000e+00  2111.0  \n",
       "3           2     0       1    264  1778525  1778788  9.000000e-136   477.0  \n",
       "4          12     0   16257  16348  1690580  1690489   1.470000e-21   104.0  "
      ]
     },
     "execution_count": 9,
     "metadata": {},
     "output_type": "execute_result"
    }
   ],
   "source": [
    "df.head()"
   ]
  },
  {
   "cell_type": "code",
   "execution_count": 12,
   "metadata": {
    "collapsed": false
   },
   "outputs": [
    {
     "data": {
      "text/plain": [
       "27428"
      ]
     },
     "execution_count": 12,
     "metadata": {},
     "output_type": "execute_result"
    }
   ],
   "source": [
    "len(df)"
   ]
  },
  {
   "cell_type": "code",
   "execution_count": 17,
   "metadata": {
    "collapsed": false
   },
   "outputs": [
    {
     "data": {
      "text/plain": [
       "3375"
      ]
     },
     "execution_count": 17,
     "metadata": {},
     "output_type": "execute_result"
    }
   ],
   "source": [
    "len(df[df['perc_identity'] >= 100.0])"
   ]
  },
  {
   "cell_type": "code",
   "execution_count": 18,
   "metadata": {
    "collapsed": false
   },
   "outputs": [
    {
     "data": {
      "text/html": [
       "<div>\n",
       "<style>\n",
       "    .dataframe thead tr:only-child th {\n",
       "        text-align: right;\n",
       "    }\n",
       "\n",
       "    .dataframe thead th {\n",
       "        text-align: left;\n",
       "    }\n",
       "\n",
       "    .dataframe tbody tr th {\n",
       "        vertical-align: top;\n",
       "    }\n",
       "</style>\n",
       "<table border=\"1\" class=\"dataframe\">\n",
       "  <thead>\n",
       "    <tr style=\"text-align: right;\">\n",
       "      <th></th>\n",
       "      <th>query_id</th>\n",
       "      <th>subject_id</th>\n",
       "      <th>perc_identity</th>\n",
       "      <th>alignment_length</th>\n",
       "      <th>mismatches</th>\n",
       "      <th>gaps</th>\n",
       "      <th>qstart</th>\n",
       "      <th>qend</th>\n",
       "      <th>sstart</th>\n",
       "      <th>send</th>\n",
       "      <th>evalue</th>\n",
       "      <th>score</th>\n",
       "    </tr>\n",
       "  </thead>\n",
       "  <tbody>\n",
       "    <tr>\n",
       "      <th>6</th>\n",
       "      <td>k99_7933</td>\n",
       "      <td>gi|55771382|dbj|AP008226.1|</td>\n",
       "      <td>100.0</td>\n",
       "      <td>30</td>\n",
       "      <td>0</td>\n",
       "      <td>0</td>\n",
       "      <td>4940</td>\n",
       "      <td>4969</td>\n",
       "      <td>1180617</td>\n",
       "      <td>1180646</td>\n",
       "      <td>1.210000e-07</td>\n",
       "      <td>56.5</td>\n",
       "    </tr>\n",
       "    <tr>\n",
       "      <th>20</th>\n",
       "      <td>k99_56443</td>\n",
       "      <td>gi|55771382|dbj|AP008226.1|</td>\n",
       "      <td>100.0</td>\n",
       "      <td>210</td>\n",
       "      <td>0</td>\n",
       "      <td>0</td>\n",
       "      <td>1</td>\n",
       "      <td>210</td>\n",
       "      <td>870729</td>\n",
       "      <td>870520</td>\n",
       "      <td>3.380000e-109</td>\n",
       "      <td>388.0</td>\n",
       "    </tr>\n",
       "    <tr>\n",
       "      <th>27</th>\n",
       "      <td>k99_60579</td>\n",
       "      <td>gi|55771382|dbj|AP008226.1|</td>\n",
       "      <td>100.0</td>\n",
       "      <td>1031</td>\n",
       "      <td>0</td>\n",
       "      <td>0</td>\n",
       "      <td>1</td>\n",
       "      <td>1031</td>\n",
       "      <td>24581</td>\n",
       "      <td>25611</td>\n",
       "      <td>0.000000e+00</td>\n",
       "      <td>1905.0</td>\n",
       "    </tr>\n",
       "    <tr>\n",
       "      <th>71</th>\n",
       "      <td>k99_111173</td>\n",
       "      <td>gi|55771382|dbj|AP008226.1|</td>\n",
       "      <td>100.0</td>\n",
       "      <td>520</td>\n",
       "      <td>0</td>\n",
       "      <td>0</td>\n",
       "      <td>1</td>\n",
       "      <td>520</td>\n",
       "      <td>1288119</td>\n",
       "      <td>1288638</td>\n",
       "      <td>0.000000e+00</td>\n",
       "      <td>961.0</td>\n",
       "    </tr>\n",
       "    <tr>\n",
       "      <th>90</th>\n",
       "      <td>k99_128067</td>\n",
       "      <td>gi|55771382|dbj|AP008226.1|</td>\n",
       "      <td>100.0</td>\n",
       "      <td>555</td>\n",
       "      <td>0</td>\n",
       "      <td>0</td>\n",
       "      <td>1</td>\n",
       "      <td>555</td>\n",
       "      <td>567098</td>\n",
       "      <td>567652</td>\n",
       "      <td>0.000000e+00</td>\n",
       "      <td>1026.0</td>\n",
       "    </tr>\n",
       "  </tbody>\n",
       "</table>\n",
       "</div>"
      ],
      "text/plain": [
       "      query_id                   subject_id  perc_identity  alignment_length  \\\n",
       "6     k99_7933  gi|55771382|dbj|AP008226.1|          100.0                30   \n",
       "20   k99_56443  gi|55771382|dbj|AP008226.1|          100.0               210   \n",
       "27   k99_60579  gi|55771382|dbj|AP008226.1|          100.0              1031   \n",
       "71  k99_111173  gi|55771382|dbj|AP008226.1|          100.0               520   \n",
       "90  k99_128067  gi|55771382|dbj|AP008226.1|          100.0               555   \n",
       "\n",
       "    mismatches  gaps  qstart  qend   sstart     send         evalue   score  \n",
       "6            0     0    4940  4969  1180617  1180646   1.210000e-07    56.5  \n",
       "20           0     0       1   210   870729   870520  3.380000e-109   388.0  \n",
       "27           0     0       1  1031    24581    25611   0.000000e+00  1905.0  \n",
       "71           0     0       1   520  1288119  1288638   0.000000e+00   961.0  \n",
       "90           0     0       1   555   567098   567652   0.000000e+00  1026.0  "
      ]
     },
     "execution_count": 18,
     "metadata": {},
     "output_type": "execute_result"
    }
   ],
   "source": [
    "df[df['perc_identity'] >= 100.0].head()"
   ]
  },
  {
   "cell_type": "code",
   "execution_count": null,
   "metadata": {
    "collapsed": true
   },
   "outputs": [],
   "source": []
  },
  {
   "cell_type": "code",
   "execution_count": 56,
   "metadata": {
    "collapsed": false
   },
   "outputs": [
    {
     "data": {
      "text/html": [
       "<div>\n",
       "<style>\n",
       "    .dataframe thead tr:only-child th {\n",
       "        text-align: right;\n",
       "    }\n",
       "\n",
       "    .dataframe thead th {\n",
       "        text-align: left;\n",
       "    }\n",
       "\n",
       "    .dataframe tbody tr th {\n",
       "        vertical-align: top;\n",
       "    }\n",
       "</style>\n",
       "<table border=\"1\" class=\"dataframe\">\n",
       "  <thead>\n",
       "    <tr style=\"text-align: right;\">\n",
       "      <th></th>\n",
       "      <th>query_id</th>\n",
       "      <th>subject_id</th>\n",
       "      <th>perc_identity</th>\n",
       "      <th>alignment_length</th>\n",
       "      <th>mismatches</th>\n",
       "      <th>gaps</th>\n",
       "      <th>qstart</th>\n",
       "      <th>qend</th>\n",
       "      <th>sstart</th>\n",
       "      <th>send</th>\n",
       "      <th>evalue</th>\n",
       "      <th>score</th>\n",
       "    </tr>\n",
       "  </thead>\n",
       "  <tbody>\n",
       "    <tr>\n",
       "      <th>1164</th>\n",
       "      <td>k99_1507000</td>\n",
       "      <td>gi|55771382|dbj|AP008226.1|</td>\n",
       "      <td>99.924</td>\n",
       "      <td>3972</td>\n",
       "      <td>3</td>\n",
       "      <td>0</td>\n",
       "      <td>1</td>\n",
       "      <td>3972</td>\n",
       "      <td>903834</td>\n",
       "      <td>907805</td>\n",
       "      <td>0.0</td>\n",
       "      <td>7319.0</td>\n",
       "    </tr>\n",
       "    <tr>\n",
       "      <th>1606</th>\n",
       "      <td>k99_1951853</td>\n",
       "      <td>gi|55771382|dbj|AP008226.1|</td>\n",
       "      <td>99.808</td>\n",
       "      <td>3119</td>\n",
       "      <td>5</td>\n",
       "      <td>1</td>\n",
       "      <td>1</td>\n",
       "      <td>3118</td>\n",
       "      <td>1161821</td>\n",
       "      <td>1158703</td>\n",
       "      <td>0.0</td>\n",
       "      <td>5725.0</td>\n",
       "    </tr>\n",
       "    <tr>\n",
       "      <th>2145</th>\n",
       "      <td>k99_2654327</td>\n",
       "      <td>gi|55771382|dbj|AP008226.1|</td>\n",
       "      <td>99.902</td>\n",
       "      <td>3047</td>\n",
       "      <td>2</td>\n",
       "      <td>1</td>\n",
       "      <td>1</td>\n",
       "      <td>3046</td>\n",
       "      <td>603643</td>\n",
       "      <td>606689</td>\n",
       "      <td>0.0</td>\n",
       "      <td>5609.0</td>\n",
       "    </tr>\n",
       "    <tr>\n",
       "      <th>2170</th>\n",
       "      <td>k99_2680603</td>\n",
       "      <td>gi|55771382|dbj|AP008226.1|</td>\n",
       "      <td>99.904</td>\n",
       "      <td>3117</td>\n",
       "      <td>3</td>\n",
       "      <td>0</td>\n",
       "      <td>1</td>\n",
       "      <td>3117</td>\n",
       "      <td>243065</td>\n",
       "      <td>239949</td>\n",
       "      <td>0.0</td>\n",
       "      <td>5740.0</td>\n",
       "    </tr>\n",
       "    <tr>\n",
       "      <th>2537</th>\n",
       "      <td>k99_3235331</td>\n",
       "      <td>gi|55771382|dbj|AP008226.1|</td>\n",
       "      <td>99.895</td>\n",
       "      <td>4780</td>\n",
       "      <td>2</td>\n",
       "      <td>3</td>\n",
       "      <td>1</td>\n",
       "      <td>4777</td>\n",
       "      <td>558022</td>\n",
       "      <td>553243</td>\n",
       "      <td>0.0</td>\n",
       "      <td>8796.0</td>\n",
       "    </tr>\n",
       "    <tr>\n",
       "      <th>2799</th>\n",
       "      <td>k99_3601836</td>\n",
       "      <td>gi|55771382|dbj|AP008226.1|</td>\n",
       "      <td>99.877</td>\n",
       "      <td>3255</td>\n",
       "      <td>3</td>\n",
       "      <td>1</td>\n",
       "      <td>1</td>\n",
       "      <td>3254</td>\n",
       "      <td>419334</td>\n",
       "      <td>422588</td>\n",
       "      <td>0.0</td>\n",
       "      <td>5987.0</td>\n",
       "    </tr>\n",
       "    <tr>\n",
       "      <th>2941</th>\n",
       "      <td>k99_3767578</td>\n",
       "      <td>gi|55771382|dbj|AP008226.1|</td>\n",
       "      <td>100.000</td>\n",
       "      <td>3053</td>\n",
       "      <td>0</td>\n",
       "      <td>0</td>\n",
       "      <td>1</td>\n",
       "      <td>3053</td>\n",
       "      <td>1272524</td>\n",
       "      <td>1269472</td>\n",
       "      <td>0.0</td>\n",
       "      <td>5638.0</td>\n",
       "    </tr>\n",
       "    <tr>\n",
       "      <th>3568</th>\n",
       "      <td>k99_4681679</td>\n",
       "      <td>gi|55771382|dbj|AP008226.1|</td>\n",
       "      <td>99.882</td>\n",
       "      <td>3393</td>\n",
       "      <td>4</td>\n",
       "      <td>0</td>\n",
       "      <td>1</td>\n",
       "      <td>3393</td>\n",
       "      <td>301588</td>\n",
       "      <td>304980</td>\n",
       "      <td>0.0</td>\n",
       "      <td>6244.0</td>\n",
       "    </tr>\n",
       "    <tr>\n",
       "      <th>3614</th>\n",
       "      <td>k99_4762994</td>\n",
       "      <td>gi|55771382|dbj|AP008226.1|</td>\n",
       "      <td>99.950</td>\n",
       "      <td>4009</td>\n",
       "      <td>2</td>\n",
       "      <td>0</td>\n",
       "      <td>1</td>\n",
       "      <td>4009</td>\n",
       "      <td>615450</td>\n",
       "      <td>611442</td>\n",
       "      <td>0.0</td>\n",
       "      <td>7393.0</td>\n",
       "    </tr>\n",
       "    <tr>\n",
       "      <th>4111</th>\n",
       "      <td>k99_5467329</td>\n",
       "      <td>gi|55771382|dbj|AP008226.1|</td>\n",
       "      <td>99.817</td>\n",
       "      <td>3835</td>\n",
       "      <td>7</td>\n",
       "      <td>0</td>\n",
       "      <td>1</td>\n",
       "      <td>3835</td>\n",
       "      <td>799433</td>\n",
       "      <td>803267</td>\n",
       "      <td>0.0</td>\n",
       "      <td>7044.0</td>\n",
       "    </tr>\n",
       "    <tr>\n",
       "      <th>4235</th>\n",
       "      <td>k99_5721732</td>\n",
       "      <td>gi|55771382|dbj|AP008226.1|</td>\n",
       "      <td>99.936</td>\n",
       "      <td>3135</td>\n",
       "      <td>2</td>\n",
       "      <td>0</td>\n",
       "      <td>1</td>\n",
       "      <td>3135</td>\n",
       "      <td>890025</td>\n",
       "      <td>893159</td>\n",
       "      <td>0.0</td>\n",
       "      <td>5779.0</td>\n",
       "    </tr>\n",
       "    <tr>\n",
       "      <th>6042</th>\n",
       "      <td>k99_8359419</td>\n",
       "      <td>gi|55771382|dbj|AP008226.1|</td>\n",
       "      <td>99.944</td>\n",
       "      <td>3551</td>\n",
       "      <td>2</td>\n",
       "      <td>0</td>\n",
       "      <td>1</td>\n",
       "      <td>3551</td>\n",
       "      <td>966165</td>\n",
       "      <td>962615</td>\n",
       "      <td>0.0</td>\n",
       "      <td>6547.0</td>\n",
       "    </tr>\n",
       "    <tr>\n",
       "      <th>9272</th>\n",
       "      <td>k99_12215168</td>\n",
       "      <td>gi|55771382|dbj|AP008226.1|</td>\n",
       "      <td>99.855</td>\n",
       "      <td>3456</td>\n",
       "      <td>4</td>\n",
       "      <td>1</td>\n",
       "      <td>1</td>\n",
       "      <td>3455</td>\n",
       "      <td>656103</td>\n",
       "      <td>652648</td>\n",
       "      <td>0.0</td>\n",
       "      <td>6353.0</td>\n",
       "    </tr>\n",
       "    <tr>\n",
       "      <th>9601</th>\n",
       "      <td>k99_12708152</td>\n",
       "      <td>gi|55771382|dbj|AP008226.1|</td>\n",
       "      <td>99.904</td>\n",
       "      <td>3122</td>\n",
       "      <td>3</td>\n",
       "      <td>0</td>\n",
       "      <td>1</td>\n",
       "      <td>3122</td>\n",
       "      <td>897635</td>\n",
       "      <td>900756</td>\n",
       "      <td>0.0</td>\n",
       "      <td>5749.0</td>\n",
       "    </tr>\n",
       "    <tr>\n",
       "      <th>13814</th>\n",
       "      <td>k99_18572259</td>\n",
       "      <td>gi|55771382|dbj|AP008226.1|</td>\n",
       "      <td>99.934</td>\n",
       "      <td>3047</td>\n",
       "      <td>2</td>\n",
       "      <td>0</td>\n",
       "      <td>1</td>\n",
       "      <td>3047</td>\n",
       "      <td>880515</td>\n",
       "      <td>877469</td>\n",
       "      <td>0.0</td>\n",
       "      <td>5616.0</td>\n",
       "    </tr>\n",
       "  </tbody>\n",
       "</table>\n",
       "</div>"
      ],
      "text/plain": [
       "           query_id                   subject_id  perc_identity  \\\n",
       "1164    k99_1507000  gi|55771382|dbj|AP008226.1|         99.924   \n",
       "1606    k99_1951853  gi|55771382|dbj|AP008226.1|         99.808   \n",
       "2145    k99_2654327  gi|55771382|dbj|AP008226.1|         99.902   \n",
       "2170    k99_2680603  gi|55771382|dbj|AP008226.1|         99.904   \n",
       "2537    k99_3235331  gi|55771382|dbj|AP008226.1|         99.895   \n",
       "2799    k99_3601836  gi|55771382|dbj|AP008226.1|         99.877   \n",
       "2941    k99_3767578  gi|55771382|dbj|AP008226.1|        100.000   \n",
       "3568    k99_4681679  gi|55771382|dbj|AP008226.1|         99.882   \n",
       "3614    k99_4762994  gi|55771382|dbj|AP008226.1|         99.950   \n",
       "4111    k99_5467329  gi|55771382|dbj|AP008226.1|         99.817   \n",
       "4235    k99_5721732  gi|55771382|dbj|AP008226.1|         99.936   \n",
       "6042    k99_8359419  gi|55771382|dbj|AP008226.1|         99.944   \n",
       "9272   k99_12215168  gi|55771382|dbj|AP008226.1|         99.855   \n",
       "9601   k99_12708152  gi|55771382|dbj|AP008226.1|         99.904   \n",
       "13814  k99_18572259  gi|55771382|dbj|AP008226.1|         99.934   \n",
       "\n",
       "       alignment_length  mismatches  gaps  qstart  qend   sstart     send  \\\n",
       "1164               3972           3     0       1  3972   903834   907805   \n",
       "1606               3119           5     1       1  3118  1161821  1158703   \n",
       "2145               3047           2     1       1  3046   603643   606689   \n",
       "2170               3117           3     0       1  3117   243065   239949   \n",
       "2537               4780           2     3       1  4777   558022   553243   \n",
       "2799               3255           3     1       1  3254   419334   422588   \n",
       "2941               3053           0     0       1  3053  1272524  1269472   \n",
       "3568               3393           4     0       1  3393   301588   304980   \n",
       "3614               4009           2     0       1  4009   615450   611442   \n",
       "4111               3835           7     0       1  3835   799433   803267   \n",
       "4235               3135           2     0       1  3135   890025   893159   \n",
       "6042               3551           2     0       1  3551   966165   962615   \n",
       "9272               3456           4     1       1  3455   656103   652648   \n",
       "9601               3122           3     0       1  3122   897635   900756   \n",
       "13814              3047           2     0       1  3047   880515   877469   \n",
       "\n",
       "       evalue   score  \n",
       "1164      0.0  7319.0  \n",
       "1606      0.0  5725.0  \n",
       "2145      0.0  5609.0  \n",
       "2170      0.0  5740.0  \n",
       "2537      0.0  8796.0  \n",
       "2799      0.0  5987.0  \n",
       "2941      0.0  5638.0  \n",
       "3568      0.0  6244.0  \n",
       "3614      0.0  7393.0  \n",
       "4111      0.0  7044.0  \n",
       "4235      0.0  5779.0  \n",
       "6042      0.0  6547.0  \n",
       "9272      0.0  6353.0  \n",
       "9601      0.0  5749.0  \n",
       "13814     0.0  5616.0  "
      ]
     },
     "execution_count": 56,
     "metadata": {},
     "output_type": "execute_result"
    }
   ],
   "source": [
    "df[(df['perc_identity'] >= 99.0) & (df['alignment_length'] >= 3000.0)]"
   ]
  },
  {
   "cell_type": "code",
   "execution_count": 52,
   "metadata": {
    "collapsed": false
   },
   "outputs": [
    {
     "data": {
      "text/html": [
       "<div>\n",
       "<style>\n",
       "    .dataframe thead tr:only-child th {\n",
       "        text-align: right;\n",
       "    }\n",
       "\n",
       "    .dataframe thead th {\n",
       "        text-align: left;\n",
       "    }\n",
       "\n",
       "    .dataframe tbody tr th {\n",
       "        vertical-align: top;\n",
       "    }\n",
       "</style>\n",
       "<table border=\"1\" class=\"dataframe\">\n",
       "  <thead>\n",
       "    <tr style=\"text-align: right;\">\n",
       "      <th></th>\n",
       "      <th>sstart</th>\n",
       "      <th>send</th>\n",
       "    </tr>\n",
       "  </thead>\n",
       "  <tbody>\n",
       "    <tr>\n",
       "      <th>27</th>\n",
       "      <td>24581</td>\n",
       "      <td>25611</td>\n",
       "    </tr>\n",
       "    <tr>\n",
       "      <th>103</th>\n",
       "      <td>780571</td>\n",
       "      <td>781582</td>\n",
       "    </tr>\n",
       "    <tr>\n",
       "      <th>280</th>\n",
       "      <td>233152</td>\n",
       "      <td>234946</td>\n",
       "    </tr>\n",
       "    <tr>\n",
       "      <th>289</th>\n",
       "      <td>1604563</td>\n",
       "      <td>1605635</td>\n",
       "    </tr>\n",
       "    <tr>\n",
       "      <th>516</th>\n",
       "      <td>139901</td>\n",
       "      <td>138565</td>\n",
       "    </tr>\n",
       "  </tbody>\n",
       "</table>\n",
       "</div>"
      ],
      "text/plain": [
       "      sstart     send\n",
       "27     24581    25611\n",
       "103   780571   781582\n",
       "280   233152   234946\n",
       "289  1604563  1605635\n",
       "516   139901   138565"
      ]
     },
     "execution_count": 52,
     "metadata": {},
     "output_type": "execute_result"
    }
   ],
   "source": [
    "df[(df['perc_identity'] >= 100.0) & (df['alignment_length'] >= 1000.0)].head()[['sstart', 'send']]"
   ]
  },
  {
   "cell_type": "code",
   "execution_count": 40,
   "metadata": {
    "collapsed": false
   },
   "outputs": [
    {
     "data": {
      "text/plain": [
       "<matplotlib.axes._subplots.AxesSubplot at 0x1104aa5f8>"
      ]
     },
     "execution_count": 40,
     "metadata": {},
     "output_type": "execute_result"
    },
    {
     "data": {
      "image/png": "[encoded data removed]",
      "text/plain": [
       "<matplotlib.figure.Figure at 0x10ffdaef0>"
      ]
     },
     "metadata": {},
     "output_type": "display_data"
    }
   ],
   "source": [
    "df[df['perc_identity'] >= 100.0].head()[['sstart', 'send']].T.plot()"
   ]
  },
  {
   "cell_type": "code",
   "execution_count": 51,
   "metadata": {
    "collapsed": false
   },
   "outputs": [
    {
     "name": "stdout",
     "output_type": "stream",
     "text": [
      "[1180617 1180646] [0.8243121458218696, 0.8243121458218696]\n",
      "[870729 870520] [0.43821027608175467, 0.43821027608175467]\n",
      "[24581 25611] [0.9672504027716083, 0.9672504027716083]\n",
      "[1288119 1288638] [0.28852063335487665, 0.28852063335487665]\n",
      "[567098 567652] [0.009005655051682271, 0.009005655051682271]\n"
     ]
    },
    {
     "data": {
      "image/png": "[encoded data removed]",
      "text/plain": [
       "<matplotlib.figure.Figure at 0x11088b780>"
      ]
     },
     "metadata": {},
     "output_type": "display_data"
    }
   ],
   "source": [
    "for ix, row in df[df['perc_identity'] >= 100.0].head().iterrows():\n",
    "    x = row[['sstart', 'send']].values\n",
    "    y_val = random.random()\n",
    "    y = [y_val,y_val]\n",
    "    plt.plot(x,y)\n",
    "    print(x,y)"
   ]
  },
  {
   "cell_type": "code",
   "execution_count": 69,
   "metadata": {
    "collapsed": false
   },
   "outputs": [
    {
     "name": "stdout",
     "output_type": "stream",
     "text": [
      "[903834 907805] [0.5096018668186455, 0.5096018668186455]\n",
      "[1161821 1158703] [0.19317333886176635, 0.19317333886176635]\n",
      "[603643 606689] [0.2680516580977912, 0.2680516580977912]\n",
      "[243065 239949] [0.6888066809155683, 0.6888066809155683]\n",
      "[558022 553243] [0.752577396022226, 0.752577396022226]\n",
      "[419334 422588] [0.8045444097171172, 0.8045444097171172]\n",
      "[1272524 1269472] [0.04459077907617037, 0.04459077907617037]\n",
      "[301588 304980] [7.096835511977151e-05, 7.096835511977151e-05]\n",
      "[615450 611442] [0.5376890347445594, 0.5376890347445594]\n",
      "[799433 803267] [0.9457081868763593, 0.9457081868763593]\n",
      "[890025 893159] [0.5104124835155205, 0.5104124835155205]\n",
      "[966165 962615] [0.6413695747006587, 0.6413695747006587]\n",
      "[656103 652648] [0.524586807461081, 0.524586807461081]\n",
      "[897635 900756] [0.6261587215015847, 0.6261587215015847]\n",
      "[880515 877469] [0.6967779544199028, 0.6967779544199028]\n"
     ]
    },
    {
     "data": {
      "image/png": "[encoded data removed]",
      "text/plain": [
       "<matplotlib.figure.Figure at 0x114f91198>"
      ]
     },
     "metadata": {},
     "output_type": "display_data"
    }
   ],
   "source": [
    "plt.figure(num=None, figsize=(18, 10), dpi=80)\n",
    "for ix, row in df[(df['perc_identity'] >= 99.0) & (df['alignment_length'] >= 3000.0)].iterrows():\n",
    "    x = row[['sstart', 'send']].values\n",
    "    y_val = random.random()\n",
    "    y = [y_val,y_val]\n",
    "    plt.plot(x,y)\n",
    "    print(x,y)\n"
   ]
  },
  {
   "cell_type": "code",
   "execution_count": 62,
   "metadata": {
    "collapsed": false
   },
   "outputs": [
    {
     "data": {
      "text/plain": [
       "array(['gi|55771382|dbj|AP008226.1|', 'gi|55773356|dbj|AP008227.1|',\n",
       "       'gi|55773608|dbj|AP008228.1|'], dtype=object)"
      ]
     },
     "execution_count": 62,
     "metadata": {},
     "output_type": "execute_result"
    }
   ],
   "source": [
    "df['subject_id'].unique()"
   ]
  },
  {
   "cell_type": "code",
   "execution_count": 72,
   "metadata": {
    "collapsed": false
   },
   "outputs": [
    {
     "data": {
      "text/plain": [
       "(-1, 2)"
      ]
     },
     "execution_count": 72,
     "metadata": {},
     "output_type": "execute_result"
    },
    {
     "data": {
      "image/png": "[encoded data removed]",
      "text/plain": [
       "<matplotlib.figure.Figure at 0x11312bcf8>"
      ]
     },
     "metadata": {},
     "output_type": "display_data"
    }
   ],
   "source": [
    "fig = plt.figure(num=None, figsize=(18, 10), dpi=80)\n",
    "ax = fig.add_subplot(1,1,1)\n",
    "for ix, row in df[(df['perc_identity'] >= 99.0) & (df['subject_id'] == 'gi|55771382|dbj|AP008226.1|')].iterrows():\n",
    "    x = row[['sstart', 'send']].values\n",
    "    y_val = random.random()\n",
    "    y = [y_val,y_val]\n",
    "    plt.plot(x,y)\n",
    "ax.set_ylim([-1,2])"
   ]
  },
  {
   "cell_type": "code",
   "execution_count": 74,
   "metadata": {
    "collapsed": false
   },
   "outputs": [
    {
     "data": {
      "text/plain": [
       "(-1, 200)"
      ]
     },
     "execution_count": 74,
     "metadata": {},
     "output_type": "execute_result"
    },
    {
     "data": {
      "image/png": "[encoded data removed]",
      "text/plain": [
       "<matplotlib.figure.Figure at 0x115fc9780>"
      ]
     },
     "metadata": {},
     "output_type": "display_data"
    }
   ],
   "source": [
    "fig = plt.figure(num=None, figsize=(18, 10), dpi=80)\n",
    "ax = fig.add_subplot(1,1,1)\n",
    "for ix, row in df[(df['perc_identity'] >= 99.0) & (df['subject_id'] == 'gi|55771382|dbj|AP008226.1|')].iterrows():\n",
    "    x = row[['sstart', 'send']].values\n",
    "    y_val = random.random()\n",
    "    y = [y_val,y_val]\n",
    "    plt.plot(x,y)\n",
    "ax.set_ylim([-1,200])"
   ]
  },
  {
   "cell_type": "code",
   "execution_count": 81,
   "metadata": {
    "collapsed": false
   },
   "outputs": [
    {
     "data": {
      "text/plain": [
       "(-1, 20)"
      ]
     },
     "execution_count": 81,
     "metadata": {},
     "output_type": "execute_result"
    },
    {
     "data": {
      "image/png": "[encoded data removed]",
      "text/plain": [
       "<matplotlib.figure.Figure at 0x11764bc18>"
      ]
     },
     "metadata": {},
     "output_type": "display_data"
    }
   ],
   "source": [
    "fig = plt.figure(num=None, figsize=(18, 10), dpi=80)\n",
    "ax = fig.add_subplot(1,1,1)\n",
    "for ix, row in df[(df['perc_identity'] >= 99.0) & (df['subject_id'] == 'gi|55771382|dbj|AP008226.1|') & (df['sstart'] < 10000)].iterrows():\n",
    "    x = row[['sstart', 'send']].values\n",
    "    y_val = random.random()\n",
    "    y = [y_val,y_val]\n",
    "    plt.plot(x,y)\n",
    "ax.set_ylim([-1,20])"
   ]
  },
  {
   "cell_type": "code",
   "execution_count": 82,
   "metadata": {
    "collapsed": false
   },
   "outputs": [
    {
     "data": {
      "text/plain": [
       "(-1, 20)"
      ]
     },
     "execution_count": 82,
     "metadata": {},
     "output_type": "execute_result"
    },
    {
     "data": {
      "image/png": "[encoded data removed]",
      "text/plain": [
       "<matplotlib.figure.Figure at 0x11775fef0>"
      ]
     },
     "metadata": {},
     "output_type": "display_data"
    }
   ],
   "source": [
    "fig = plt.figure(num=None, figsize=(18, 10), dpi=80)\n",
    "ax = fig.add_subplot(1,1,1)\n",
    "for ix, row in df[(df['perc_identity'] >= 99.0) & (df['subject_id'] == 'gi|55771382|dbj|AP008226.1|') & (df['sstart'] < 100000)].iterrows():\n",
    "    x = row[['sstart', 'send']].values\n",
    "    y_val = random.random()\n",
    "    y = [y_val,y_val]\n",
    "    plt.plot(x,y)\n",
    "ax.set_ylim([-1,20])"
   ]
  },
  {
   "cell_type": "code",
   "execution_count": 88,
   "metadata": {
    "collapsed": false
   },
   "outputs": [],
   "source": [
    "c = Counter()\n",
    "c.update(range(200,100))"
   ]
  },
  {
   "cell_type": "code",
   "execution_count": 90,
   "metadata": {
    "collapsed": true
   },
   "outputs": [],
   "source": [
    "base_count = Counter()\n",
    "for ix, row in df[(df['perc_identity'] >= 99.0) & (df['subject_id'] == 'gi|55771382|dbj|AP008226.1|') & (df['sstart'] < 10000)].iterrows():\n",
    "    x = row[['sstart', 'send']].values\n",
    "    start = x[0]\n",
    "    stop = x[1]\n",
    "    if start > stop:\n",
    "        base_count.update(range(stop, start))\n",
    "    else:\n",
    "        base_count.update(range(start, stop))"
   ]
  },
  {
   "cell_type": "code",
   "execution_count": 91,
   "metadata": {
    "collapsed": false
   },
   "outputs": [
    {
     "data": {
      "text/plain": [
       "7556"
      ]
     },
     "execution_count": 91,
     "metadata": {},
     "output_type": "execute_result"
    }
   ],
   "source": [
    "len(base_count.keys())"
   ]
  },
  {
   "cell_type": "code",
   "execution_count": 96,
   "metadata": {
    "collapsed": false
   },
   "outputs": [
    {
     "name": "stdout",
     "output_type": "stream",
     "text": [
      "1541966\n",
      "217829\n",
      "6000\n"
     ]
    }
   ],
   "source": [
    "for subject_id in df['subject_id'].unique():\n",
    "    base_count = Counter()\n",
    "    for ix, row in df[(df['perc_identity'] >= 99.0) & (df['subject_id'] == subject_id)].iterrows():\n",
    "        x = row[['sstart', 'send']].values\n",
    "        start = x[0]\n",
    "        stop = x[1]\n",
    "        if start > stop:\n",
    "            base_count.update(range(stop, start))\n",
    "        else:\n",
    "            base_count.update(range(start, stop))\n",
    "    print(len(base_count))"
   ]
  },
  {
   "cell_type": "code",
   "execution_count": 97,
   "metadata": {
    "collapsed": false
   },
   "outputs": [
    {
     "data": {
      "text/plain": [
       "1765795"
      ]
     },
     "execution_count": 97,
     "metadata": {},
     "output_type": "execute_result"
    }
   ],
   "source": [
    "1541966+217829+6000"
   ]
  },
  {
   "cell_type": "code",
   "execution_count": 98,
   "metadata": {
    "collapsed": false
   },
   "outputs": [
    {
     "name": "stdout",
     "output_type": "stream",
     "text": [
      "1547917\n",
      "219208\n",
      "6050\n"
     ]
    }
   ],
   "source": [
    "for subject_id in df['subject_id'].unique():\n",
    "    base_count = Counter()\n",
    "    for ix, row in df[(df['perc_identity'] >= 98.0) & (df['subject_id'] == subject_id)].iterrows():\n",
    "        x = row[['sstart', 'send']].values\n",
    "        start = x[0]\n",
    "        stop = x[1]\n",
    "        if start > stop:\n",
    "            base_count.update(range(stop, start))\n",
    "        else:\n",
    "            base_count.update(range(start, stop))\n",
    "    print(len(base_count))"
   ]
  },
  {
   "cell_type": "code",
   "execution_count": 99,
   "metadata": {
    "collapsed": false
   },
   "outputs": [
    {
     "data": {
      "text/plain": [
       "0.8344734244177502"
      ]
     },
     "execution_count": 99,
     "metadata": {},
     "output_type": "execute_result"
    }
   ],
   "source": [
    "1765795.0/2116059"
   ]
  },
  {
   "cell_type": "code",
   "execution_count": 100,
   "metadata": {
    "collapsed": false
   },
   "outputs": [
    {
     "name": "stdout",
     "output_type": "stream",
     "text": [
      "1553468\n",
      "220770\n",
      "6269\n"
     ]
    }
   ],
   "source": [
    "for subject_id in df['subject_id'].unique():\n",
    "    base_count = Counter()\n",
    "    for ix, row in df[(df['perc_identity'] >= 90.0) & (df['subject_id'] == subject_id)].iterrows():\n",
    "        x = row[['sstart', 'send']].values\n",
    "        start = x[0]\n",
    "        stop = x[1]\n",
    "        if start > stop:\n",
    "            base_count.update(range(stop, start))\n",
    "        else:\n",
    "            base_count.update(range(start, stop))\n",
    "    print(len(base_count))"
   ]
  },
  {
   "cell_type": "code",
   "execution_count": 101,
   "metadata": {
    "collapsed": false
   },
   "outputs": [
    {
     "data": {
      "text/plain": [
       "1780507"
      ]
     },
     "execution_count": 101,
     "metadata": {},
     "output_type": "execute_result"
    }
   ],
   "source": [
    "1553468+220770+6269"
   ]
  },
  {
   "cell_type": "code",
   "execution_count": 102,
   "metadata": {
    "collapsed": false
   },
   "outputs": [
    {
     "data": {
      "text/plain": [
       "0.8414259715820778"
      ]
     },
     "execution_count": 102,
     "metadata": {},
     "output_type": "execute_result"
    }
   ],
   "source": [
    "1780507.0/2116059"
   ]
  },
  {
   "cell_type": "code",
   "execution_count": 104,
   "metadata": {
    "collapsed": false
   },
   "outputs": [
    {
     "data": {
      "text/plain": [
       "5505"
      ]
     },
     "execution_count": 104,
     "metadata": {},
     "output_type": "execute_result"
    }
   ],
   "source": [
    "len(df[(df['perc_identity'] >= 99.0)])"
   ]
  },
  {
   "cell_type": "code",
   "execution_count": null,
   "metadata": {
    "collapsed": true
   },
   "outputs": [],
   "source": []
  }
 ],
 "metadata": {
  "kernelspec": {
   "display_name": "Python 3",
   "language": "python",
   "name": "python3"
  },
  "language_info": {
   "codemirror_mode": {
    "name": "ipython",
    "version": 3
   },
   "file_extension": ".py",
   "mimetype": "text/x-python",
   "name": "python",
   "nbconvert_exporter": "python",
   "pygments_lexer": "ipython3",
   "version": "3.5.1"
  }
 },
 "nbformat": 4,
 "nbformat_minor": 0
}
